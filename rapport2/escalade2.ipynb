{
 "cells": [
  {
   "cell_type": "code",
   "execution_count": null,
   "metadata": {},
   "outputs": [
    {
     "data": {
      "text/plain": [
       "np.float64(0.7501826150474873)"
      ]
     },
     "execution_count": 4,
     "metadata": {},
     "output_type": "execute_result"
    }
   ],
   "source": [
    "import pandas as pd\n",
    "import numpy as np\n",
    "import matplotlib.pyplot as plt\n",
    "\n",
    "\n",
    "données_original = pd.read_csv('vitesse2.csv')\n",
    "\n",
    "données = données_original.set_index('Time (ms)')\n",
    "\n",
    "dx = np.mean(np.diff(données.index))\n",
    "\n",
    "def compris(x, a, b):\n",
    "    return x >= a and x <= b\n",
    "\n",
    "temps_pause = 0\n",
    "temps_total = 0\n",
    "\n",
    "for i in range(len(données_original)):\n",
    "    if compris(données_original.iloc[i][\"Centre de gravité\"], -0.1, 0.1):\n",
    "        temps_pause+= dx\n",
    "    \n",
    "    temps_total+= dx\n",
    "\n",
    "(temps_total - temps_pause)/temps_total"
   ]
  },
  {
   "cell_type": "code",
   "execution_count": null,
   "metadata": {},
   "outputs": [
    {
     "data": {
      "text/plain": [
       "(np.float64(934.7219889016957),\n",
       " np.float64(1272.7223611775753),\n",
       " np.float64(1.4453084977790192))"
      ]
     },
     "execution_count": 5,
     "metadata": {},
     "output_type": "execute_result"
    }
   ],
   "source": [
    "\n",
    "file_hor = \"hor2.csv\"\n",
    "file_vert = \"vert2.csv\"\n",
    "\n",
    "df_hor = pd.read_csv(file_hor)\n",
    "df_vert = pd.read_csv(file_vert)\n",
    "\n",
    "from scipy.spatial import ConvexHull\n",
    "\n",
    "df_traj = pd.merge(df_hor, df_vert, on=\"Time (ms)\", suffixes=('_x', '_y'))\n",
    "\n",
    "points = df_traj[['Centre de gravité_x', 'Centre de gravité_y']].to_numpy()\n",
    "\n",
    "hull = ConvexHull(points)\n",
    "perimeter_convex_hull = np.sum(np.sqrt(np.sum(np.diff(points[hull.vertices], axis=0)**2, axis=1)))\n",
    "\n",
    "L_T = np.sum(np.sqrt(np.sum(np.diff(points, axis=0)**2, axis=1)))\n",
    "\n",
    "GIE = (np.log(2 * L_T) - np.log(perimeter_convex_hull)) / np.log(2)\n",
    "\n",
    "perimeter_convex_hull, L_T, GIE\n",
    "\n"
   ]
  }
 ],
 "metadata": {
  "kernelspec": {
   "display_name": "Python 3",
   "language": "python",
   "name": "python3"
  },
  "language_info": {
   "codemirror_mode": {
    "name": "ipython",
    "version": 3
   },
   "file_extension": ".py",
   "mimetype": "text/x-python",
   "name": "python",
   "nbconvert_exporter": "python",
   "pygments_lexer": "ipython3",
   "version": "3.13.1"
  }
 },
 "nbformat": 4,
 "nbformat_minor": 2
}
